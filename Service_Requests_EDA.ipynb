{
 "cells": [
  {
   "cell_type": "code",
   "execution_count": 1,
   "id": "9c049aee",
   "metadata": {},
   "outputs": [],
   "source": [
    "#Python Data Analysis on NYC Service Requests Data "
   ]
  },
  {
   "cell_type": "code",
   "execution_count": 2,
   "id": "30905101",
   "metadata": {},
   "outputs": [],
   "source": [
    "import pandas as pd\n",
    "import numpy as np\n",
    "from datetime import datetime as dt\n",
    "import matplotlib.pyplot as plt \n",
    "import seaborn as sns"
   ]
  },
  {
   "cell_type": "markdown",
   "id": "4110cb7c",
   "metadata": {},
   "source": [
    "## Data Collection"
   ]
  },
  {
   "cell_type": "markdown",
   "id": "5b4ec506",
   "metadata": {},
   "source": [
    "A subset of the 311 NYC dataset was exported from the NYC Open Data portal at https://data.cityofnewyork.us/Social-Services/311-Service-Requests-from-2010-to-Present/erm2-nwe9/data. I selected a subset of all the complaints according to the following criteria:\n",
    "1. Created Date is between 7/1/19 and 7/1/21 \n",
    "2. Status is 'Closed'\n",
    "3. Closed Date is before 7/2/21 12:00:00 AM \n",
    "\n",
    "The data originally had 41 features:\n",
    " (0, 'Unique Key'),\n",
    " (1, 'Created Date'),\n",
    " (2, 'Closed Date'),\n",
    " (3, 'Agency'),\n",
    " (4, 'Agency Name'),\n",
    " (5, 'Complaint Type'),\n",
    " (6, 'Descriptor'),\n",
    " (7, 'Location Type'),\n",
    " (8, 'Incident Zip'),\n",
    " (9, 'Incident Address'),\n",
    " (10, 'Street Name'),\n",
    " (11, 'Cross Street 1'),\n",
    " (12, 'Cross Street 2'),\n",
    " (13, 'Intersection Street 1'),\n",
    " (14, 'Intersection Street 2'),\n",
    " (15, 'Address Type'),\n",
    " (16, 'City'),\n",
    " (17, 'Landmark'),\n",
    " (18, 'Facility Type'),\n",
    " (19, 'Status'),\n",
    " (20, 'Due Date'),\n",
    " (21, 'Resolution Description'),\n",
    " (22, 'Resolution Action Updated Date'),\n",
    " (23, 'Community Board'),\n",
    " (24, 'BBL'),\n",
    " (25, 'Borough'),\n",
    " (26, 'X Coordinate (State Plane)'),\n",
    " (27, 'Y Coordinate (State Plane)'),\n",
    " (28, 'Open Data Channel Type'),\n",
    " (29, 'Park Facility Name'),\n",
    " (30, 'Park Borough'),\n",
    " (31, 'Vehicle Type'),\n",
    " (32, 'Taxi Company Borough'),\n",
    " (33, 'Taxi Pick Up Location'),\n",
    " (34, 'Bridge Highway Name'),\n",
    " (35, 'Bridge Highway Direction'),\n",
    " (36, 'Road Ramp'),\n",
    " (37, 'Bridge Highway Segment'),\n",
    " (38, 'Latitude'),\n",
    " (39, 'Longitude'),\n",
    " (40, 'Location')\n",
    " \n",
    "**I will keep 20 that provide information on the complaint logged, the agency involved, the time of case creation and closing, the mode of creation, and geovalidated fields related to location of the incident.**"
   ]
  },
  {
   "cell_type": "markdown",
   "id": "037c69ec",
   "metadata": {},
   "source": [
    "## Data Loading"
   ]
  },
  {
   "cell_type": "code",
   "execution_count": 4,
   "id": "acfab134",
   "metadata": {},
   "outputs": [],
   "source": [
    "### Load in full dataset with selected columns \n",
    "filepath = '/Users/nikiagrawal/Desktop/NYCDSA/'\n",
    "filename = '311_Service_Requests.csv'\n",
    "sr_data = pd.read_csv(filepath + filename,\\\n",
    "                      usecols=[0,1,2,3,4,5,6,7,8,9,10,19,21,25,26,27,28,38,39,40])"
   ]
  },
  {
   "cell_type": "code",
   "execution_count": 5,
   "id": "f2227168",
   "metadata": {},
   "outputs": [
    {
     "data": {
      "text/plain": [
       "(4659228, 20)"
      ]
     },
     "execution_count": 5,
     "metadata": {},
     "output_type": "execute_result"
    }
   ],
   "source": [
    "#There are 4659228 observations and 20 features \n",
    "sr_data.shape"
   ]
  },
  {
   "cell_type": "code",
   "execution_count": 44,
   "id": "7f67a7ba",
   "metadata": {
    "scrolled": true
   },
   "outputs": [
    {
     "data": {
      "text/html": [
       "<div>\n",
       "<style scoped>\n",
       "    .dataframe tbody tr th:only-of-type {\n",
       "        vertical-align: middle;\n",
       "    }\n",
       "\n",
       "    .dataframe tbody tr th {\n",
       "        vertical-align: top;\n",
       "    }\n",
       "\n",
       "    .dataframe thead th {\n",
       "        text-align: right;\n",
       "    }\n",
       "</style>\n",
       "<table border=\"1\" class=\"dataframe\">\n",
       "  <thead>\n",
       "    <tr style=\"text-align: right;\">\n",
       "      <th></th>\n",
       "      <th>Unique Key</th>\n",
       "      <th>Created Date</th>\n",
       "      <th>Closed Date</th>\n",
       "      <th>Agency</th>\n",
       "      <th>Agency Name</th>\n",
       "      <th>Complaint Type</th>\n",
       "      <th>Descriptor</th>\n",
       "      <th>Location Type</th>\n",
       "      <th>Incident Zip</th>\n",
       "      <th>Incident Address</th>\n",
       "      <th>Street Name</th>\n",
       "      <th>Status</th>\n",
       "      <th>Resolution Description</th>\n",
       "      <th>Borough</th>\n",
       "      <th>X Coordinate (State Plane)</th>\n",
       "      <th>Y Coordinate (State Plane)</th>\n",
       "      <th>Open Data Channel Type</th>\n",
       "      <th>Latitude</th>\n",
       "      <th>Longitude</th>\n",
       "      <th>Location</th>\n",
       "    </tr>\n",
       "  </thead>\n",
       "  <tbody>\n",
       "    <tr>\n",
       "      <th>0</th>\n",
       "      <td>43179970</td>\n",
       "      <td>2019-07-01</td>\n",
       "      <td>2019-07-08</td>\n",
       "      <td>DOHMH</td>\n",
       "      <td>Department of Health and Mental Hygiene</td>\n",
       "      <td>Standing Water</td>\n",
       "      <td>Puddle in Ground</td>\n",
       "      <td>1-2 Family Mixed Use Building</td>\n",
       "      <td>11435.0</td>\n",
       "      <td>90-24 148 STREET</td>\n",
       "      <td>148 STREET</td>\n",
       "      <td>Closed</td>\n",
       "      <td>NaN</td>\n",
       "      <td>QUEENS</td>\n",
       "      <td>1037709.0</td>\n",
       "      <td>195334.0</td>\n",
       "      <td>PHONE</td>\n",
       "      <td>40.702662</td>\n",
       "      <td>-73.807195</td>\n",
       "      <td>(40.702661991089535, -73.80719482768488)</td>\n",
       "    </tr>\n",
       "  </tbody>\n",
       "</table>\n",
       "</div>"
      ],
      "text/plain": [
       "   Unique Key Created Date Closed Date Agency  \\\n",
       "0    43179970   2019-07-01  2019-07-08  DOHMH   \n",
       "\n",
       "                               Agency Name  Complaint Type        Descriptor  \\\n",
       "0  Department of Health and Mental Hygiene  Standing Water  Puddle in Ground   \n",
       "\n",
       "                   Location Type  Incident Zip  Incident Address Street Name  \\\n",
       "0  1-2 Family Mixed Use Building       11435.0  90-24 148 STREET  148 STREET   \n",
       "\n",
       "   Status Resolution Description Borough  X Coordinate (State Plane)  \\\n",
       "0  Closed                    NaN  QUEENS                   1037709.0   \n",
       "\n",
       "   Y Coordinate (State Plane) Open Data Channel Type   Latitude  Longitude  \\\n",
       "0                    195334.0                  PHONE  40.702662 -73.807195   \n",
       "\n",
       "                                   Location  \n",
       "0  (40.702661991089535, -73.80719482768488)  "
      ]
     },
     "execution_count": 44,
     "metadata": {},
     "output_type": "execute_result"
    }
   ],
   "source": [
    "#Preview data\n",
    "pd.set_option('display.max_columns',30)\n",
    "pd.set_option('display.max_rows', 30) \n",
    "sr_data.head(1)"
   ]
  },
  {
   "cell_type": "code",
   "execution_count": 43,
   "id": "4479582f",
   "metadata": {},
   "outputs": [
    {
     "data": {
      "text/plain": [
       "[(0, 'Unique Key'),\n",
       " (1, 'Created Date'),\n",
       " (2, 'Closed Date'),\n",
       " (3, 'Agency'),\n",
       " (4, 'Agency Name'),\n",
       " (5, 'Complaint Type'),\n",
       " (6, 'Descriptor'),\n",
       " (7, 'Location Type'),\n",
       " (8, 'Incident Zip'),\n",
       " (9, 'Incident Address'),\n",
       " (10, 'Street Name'),\n",
       " (11, 'Status'),\n",
       " (12, 'Resolution Description'),\n",
       " (13, 'Borough'),\n",
       " (14, 'X Coordinate (State Plane)'),\n",
       " (15, 'Y Coordinate (State Plane)'),\n",
       " (16, 'Open Data Channel Type'),\n",
       " (17, 'Latitude'),\n",
       " (18, 'Longitude'),\n",
       " (19, 'Location')]"
      ]
     },
     "execution_count": 43,
     "metadata": {},
     "output_type": "execute_result"
    }
   ],
   "source": [
    "list(enumerate(sr_data.columns.to_list()))"
   ]
  },
  {
   "cell_type": "markdown",
   "id": "a5ad188a",
   "metadata": {},
   "source": [
    "### Datetime conversion with pd.to_datetime():"
   ]
  },
  {
   "cell_type": "code",
   "execution_count": 38,
   "id": "666568b8",
   "metadata": {
    "scrolled": true
   },
   "outputs": [],
   "source": [
    "###Now that I have the relevant columns, I will convert the columns with date and time information \n",
    "###from strings into datetime objects. \n",
    "sr_data['Created Date'] = pd.to_datetime(sr_data['Created Date'], format = \"%m/%d/%Y %I:%M:%S %p\")\n",
    "sr_data['Closed Date'] = pd.to_datetime(sr_data['Closed Date'], format = \"%m/%d/%Y %I:%M:%S %p\")"
   ]
  },
  {
   "cell_type": "code",
   "execution_count": 34,
   "id": "77d7f8ab",
   "metadata": {},
   "outputs": [],
   "source": [
    "###Check that the dates converted properly and the data is within the expected date & time range\n",
    "# sr_data['Created Date'].min()\n",
    "# sr_data['Created Date'].max()\n",
    "# sr_data['Closed Date'].min()\n",
    "# sr_data['Closed Date'].max()\n",
    "\n",
    "###Save edited dateframe as csv file \n",
    "# sr_data.to_csv('311_Service_Requests_edited',index = False)"
   ]
  },
  {
   "cell_type": "code",
   "execution_count": 36,
   "id": "0008deb0",
   "metadata": {
    "scrolled": false
   },
   "outputs": [
    {
     "data": {
      "text/plain": [
       "Unique Key                             int64\n",
       "Created Date                  datetime64[ns]\n",
       "Closed Date                   datetime64[ns]\n",
       "Agency                                object\n",
       "Agency Name                           object\n",
       "Complaint Type                        object\n",
       "Descriptor                            object\n",
       "Location Type                         object\n",
       "Incident Zip                         float64\n",
       "Incident Address                      object\n",
       "Street Name                           object\n",
       "Status                                object\n",
       "Resolution Description                object\n",
       "Borough                               object\n",
       "X Coordinate (State Plane)           float64\n",
       "Y Coordinate (State Plane)           float64\n",
       "Open Data Channel Type                object\n",
       "Latitude                             float64\n",
       "Longitude                            float64\n",
       "Location                              object\n",
       "dtype: object"
      ]
     },
     "execution_count": 36,
     "metadata": {},
     "output_type": "execute_result"
    }
   ],
   "source": [
    "sr_data.dtypes"
   ]
  },
  {
   "cell_type": "markdown",
   "id": "4b58ac2f",
   "metadata": {},
   "source": [
    "# Background \n",
    "- NYC Noise Codes \n",
    "- How does 311 work? What happens when a call comes in? Why was this set up and who is involved? How is it monitored? \n",
    "- Motivation - Who is interested in this analysis:\n",
    "1. Government agencies\n",
    "        a. Are they effectively responding to complaints? \n",
    "            1. Time of case duration \n",
    "            2. Percent of repeat complaints from same location over time \n",
    "            3. Analyze text of the Resolution Description \n",
    "            4. How many calls logged per day on average?\n",
    "               How many calls logged per year on average?\n",
    "            5. Which season has the most/least noise complaints?\n",
    "            6. Which borough has the most / least complaints\n",
    "\n",
    "2. Current NYC residents and new renters \n",
    "        a. Noise as an indicator of quality of life \n",
    "            1. Which neighborhoods have parties?\n",
    "            2. Which neighborhoods complain the most (residential)?\n",
    "            3. Which neighborhoods have a lot of construction / development?\n",
    "            4. Which parks are spots of conflict? \n",
    "            5. WFH paradigm - resedential noise - \n",
    "            6. How does day time compare to night time? "
   ]
  },
  {
   "cell_type": "code",
   "execution_count": null,
   "id": "fe32ea68",
   "metadata": {},
   "outputs": [],
   "source": [
    "#sr_data['Time Elapsed'] = sr_data['Closed Date']-sr_data['Created Date']\n",
    "#creates a Timedelta object. Can use Timedelta.components or Timedelta.total_seconds()\n"
   ]
  },
  {
   "cell_type": "code",
   "execution_count": null,
   "id": "c6713deb",
   "metadata": {},
   "outputs": [],
   "source": [
    "sr_data['Complaint Type'].unique()"
   ]
  },
  {
   "cell_type": "code",
   "execution_count": null,
   "id": "a07757b2",
   "metadata": {},
   "outputs": [],
   "source": [
    "sr_data['Complaint Type'].unique().shape"
   ]
  },
  {
   "cell_type": "code",
   "execution_count": null,
   "id": "16368661",
   "metadata": {},
   "outputs": [],
   "source": [
    "list(sr_data['Complaint Type'].value_counts())"
   ]
  },
  {
   "cell_type": "code",
   "execution_count": null,
   "id": "390f6738",
   "metadata": {},
   "outputs": [],
   "source": []
  },
  {
   "cell_type": "code",
   "execution_count": null,
   "id": "070ef7cd",
   "metadata": {},
   "outputs": [],
   "source": []
  }
 ],
 "metadata": {
  "kernelspec": {
   "display_name": "Python 3",
   "language": "python",
   "name": "python3"
  },
  "language_info": {
   "codemirror_mode": {
    "name": "ipython",
    "version": 3
   },
   "file_extension": ".py",
   "mimetype": "text/x-python",
   "name": "python",
   "nbconvert_exporter": "python",
   "pygments_lexer": "ipython3",
   "version": "3.8.8"
  }
 },
 "nbformat": 4,
 "nbformat_minor": 5
}
