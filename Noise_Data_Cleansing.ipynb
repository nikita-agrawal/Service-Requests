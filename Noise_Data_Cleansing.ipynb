{
 "cells": [
  {
   "cell_type": "code",
   "execution_count": 1,
   "id": "411c43dd",
   "metadata": {},
   "outputs": [],
   "source": [
    "import pandas as pd \n",
    "import numpy as np\n",
    "import re\n",
    "\n",
    "pd.set_option('display.max_columns',30)\n",
    "pd.set_option('display.max_rows',30)\n"
   ]
  },
  {
   "cell_type": "markdown",
   "id": "b0b977e4",
   "metadata": {},
   "source": [
    "## Load in Noise complaints csv "
   ]
  },
  {
   "cell_type": "code",
   "execution_count": 2,
   "id": "d3b9a5e7",
   "metadata": {},
   "outputs": [],
   "source": [
    "## Load in full dataset with selected columns \n",
    "filepath = '/Users/nikiagrawal/Desktop/EDA/Service-Requests/'\n",
    "filename = '311_Service_Requests_Noise.csv'\n",
    "sr_noise_data = pd.read_csv(filepath + filename,\\\n",
    "                      usecols=[0,1,2,3,4,5,6,7,8,9,10,19,21,25,26,27,28,38,39,40])"
   ]
  },
  {
   "cell_type": "code",
   "execution_count": 3,
   "id": "4a37fdc7",
   "metadata": {},
   "outputs": [],
   "source": [
    "#sr_noise_data.shape"
   ]
  },
  {
   "cell_type": "code",
   "execution_count": 4,
   "id": "8d2d570c",
   "metadata": {},
   "outputs": [],
   "source": [
    "#sr_noise_data.columns"
   ]
  },
  {
   "cell_type": "code",
   "execution_count": 5,
   "id": "415481f4",
   "metadata": {},
   "outputs": [],
   "source": [
    "### Datetime conversion with pd.to_datetime():\n",
    "sr_noise_data['Created Date'] = pd.to_datetime(sr_noise_data['Created Date'], format = \"%m/%d/%Y %I:%M:%S %p\")\n",
    "sr_noise_data['Closed Date'] = pd.to_datetime(sr_noise_data['Closed Date'], format = \"%m/%d/%Y %I:%M:%S %p\")\n"
   ]
  },
  {
   "cell_type": "code",
   "execution_count": 6,
   "id": "d24bafd9",
   "metadata": {},
   "outputs": [],
   "source": [
    "#sr_noise_data.dtypes"
   ]
  },
  {
   "cell_type": "markdown",
   "id": "fc07493a",
   "metadata": {},
   "source": [
    "### Noise Feature Engineering\n",
    "\n",
    "There are all currently all kinds of labels used to describe noise.  \n",
    "I will simplify the categoization of the noise data by creating 2 new features, \"Noise Complaint Type\" and \"Noise Descriptor\" based on the 3 features, 'Complaint Type','Descriptor', and 'Location Type' listed below. "
   ]
  },
  {
   "cell_type": "code",
   "execution_count": 7,
   "id": "be0e522c",
   "metadata": {},
   "outputs": [],
   "source": [
    "#  sr_noise_data[['Complaint Type','Descriptor','Location Type','Unique Key']]\\\n",
    "#             .groupby(['Complaint Type','Descriptor','Location Type']).count()"
   ]
  },
  {
   "cell_type": "code",
   "execution_count": 8,
   "id": "b7b8f8ad",
   "metadata": {},
   "outputs": [],
   "source": [
    "## Helper function to check if string contains an element from a list\n",
    "def contains_elements_from(string, lst):\n",
    "    \"\"\"This function will return True if \n",
    "    a given string contains any element from a\n",
    "    given list. \n",
    "    \n",
    "    Args: \n",
    "    string: input string\n",
    "    lst: a list of strings \n",
    "    \n",
    "    Returns:\n",
    "    True or False \n",
    "    \"\"\"\n",
    "    return any(ele in string for ele in lst)"
   ]
  },
  {
   "cell_type": "code",
   "execution_count": 9,
   "id": "96713e4f",
   "metadata": {},
   "outputs": [],
   "source": [
    "def get_description(complaint_descriptor):\n",
    "    \"\"\"This function takes in the 'Complaint Type' and 'Descriptor' elements \n",
    "    and outputs an appropriate relabel for the new feature 'Noise Descriptor.'\n",
    "    \n",
    "    Args:\n",
    "    complaint_descriptor: contains 2 elements, complaint type and descriptor\n",
    "    \n",
    "    Returns:\n",
    "    string label that will be used for new feature, Noise Descriptor. \"\"\"\n",
    "    \n",
    "    complaint = complaint_descriptor[0]\n",
    "    descriptor = complaint_descriptor[1]  \n",
    "    #clean up DEP noise descriptor categories \n",
    "    if complaint == \"Noise\": \n",
    "        temp = re.search(\"(^Noise?[:,]*)([\\s\\w\\/]*)\", descriptor).group(2).strip(\" \").capitalize()\n",
    "    elif descriptor == descriptor:\n",
    "        if descriptor == '21 Collection Truck Noise':\n",
    "            temp = \"truck\"\n",
    "        else:\n",
    "            temp = descriptor.split(\"/\",2)[0]\n",
    "    else: \n",
    "        return \"Unspecified\"\n",
    "        \n",
    "        \n",
    "    if contains_elements_from(temp,['dog','animals']):\n",
    "        temp = \"Animal\"\n",
    "    elif contains_elements_from(temp,['Car','Engine','truck','carting','Vehicle','Boat']):\n",
    "        temp =\"Vehicle\"\n",
    "    elif contains_elements_from(temp,['NYPD','News','Other']):\n",
    "        temp =\"Helicopter\"\n",
    "    elif contains_elements_from(temp,['Construction','Jack']):\n",
    "        temp =\"Construction\"\n",
    "    elif contains_elements_from(temp,['Music','Loud music']):\n",
    "        temp =\"Loud Music/Party\"\n",
    "    elif contains_elements_from(temp,['Manufacturing']):\n",
    "        temp = \"Manufacturing\"\n",
    "    elif contains_elements_from(temp,['Other noise sources']):\n",
    "        temp = \"Other Sources\"\n",
    "    return temp       "
   ]
  },
  {
   "cell_type": "code",
   "execution_count": 10,
   "id": "b555181f",
   "metadata": {},
   "outputs": [],
   "source": [
    "def get_complaint_type(complaint_descriptor_location):\n",
    "    \"\"\"This function takes in the Complaint Type, Descriptor, and Location Type \n",
    "    elements and outputs an appropriate relabel for the new feature, 'Noise Complaint Type.'\n",
    "    \n",
    "    Args:\n",
    "    complaint_descriptor_location: contains 3 elements, complaint type, descriptor, and location type\n",
    "    \n",
    "    Returns:\n",
    "    string label that will be used for new feature, Noise Complaint Type.\"\"\"\n",
    "    \n",
    "    complaint = complaint_descriptor_location[0]\n",
    "    descriptor = complaint_descriptor_location[1]\n",
    "    location = complaint_descriptor_location[2]\n",
    "    if complaint == \"Noise\":\n",
    "        return \"Unspecified\"\n",
    "    elif complaint ==\"Collection Truck Noise\":\n",
    "        return \"Vehicle\"\n",
    "    else:\n",
    "        temp = re.split('Noise -',complaint)[1].strip(\" \").capitalize() \n",
    "        if ((temp == \"Commercial\") & (location == location)):\n",
    "            temp = location\n",
    "    return temp"
   ]
  },
  {
   "cell_type": "code",
   "execution_count": 11,
   "id": "cf6f07ea",
   "metadata": {},
   "outputs": [],
   "source": [
    "### Add new feature column \"Noise Descriptor\"\n",
    "sr_noise_data[\"Noise Descriptor\"] =\\\n",
    "    sr_noise_data[['Complaint Type','Descriptor']].apply(get_description, axis=1)"
   ]
  },
  {
   "cell_type": "code",
   "execution_count": 12,
   "id": "6f3830ed",
   "metadata": {
    "scrolled": true
   },
   "outputs": [
    {
     "data": {
      "text/plain": [
       "[(0, 'Loud Music/Party'),\n",
       " (1, 'Banging'),\n",
       " (2, 'Construction'),\n",
       " (3, 'Loud Talking'),\n",
       " (4, 'Vehicle'),\n",
       " (5, 'Alarms'),\n",
       " (6, 'Animal'),\n",
       " (7, 'Air condition/ventilation equipment'),\n",
       " (8, 'Loud Television'),\n",
       " (9, 'Helicopter'),\n",
       " (10, 'Lawn care equipment'),\n",
       " (11, 'Manufacturing'),\n",
       " (12, 'Unspecified')]"
      ]
     },
     "execution_count": 12,
     "metadata": {},
     "output_type": "execute_result"
    }
   ],
   "source": [
    "list(enumerate(sr_noise_data[\"Noise Descriptor\"].unique()))"
   ]
  },
  {
   "cell_type": "code",
   "execution_count": 13,
   "id": "cb2b914a",
   "metadata": {},
   "outputs": [],
   "source": [
    "### Add new feature column \"Noise Complaint Type\"\n",
    "sr_noise_data[\"Noise Complaint Type\"] =\\\n",
    "    sr_noise_data[['Complaint Type','Descriptor','Location Type']].apply(get_complaint_type, axis=1)"
   ]
  },
  {
   "cell_type": "code",
   "execution_count": 14,
   "id": "69eea62c",
   "metadata": {},
   "outputs": [
    {
     "data": {
      "text/plain": [
       "[(0, 'Residential'),\n",
       " (1, 'Club/Bar/Restaurant'),\n",
       " (2, 'Street/sidewalk'),\n",
       " (3, 'Unspecified'),\n",
       " (4, 'Store/Commercial'),\n",
       " (5, 'Vehicle'),\n",
       " (6, 'Park'),\n",
       " (7, 'Helicopter'),\n",
       " (8, 'House of worship'),\n",
       " (9, 'Commercial')]"
      ]
     },
     "execution_count": 14,
     "metadata": {},
     "output_type": "execute_result"
    }
   ],
   "source": [
    "list(enumerate(sr_noise_data[\"Noise Complaint Type\"].unique()))"
   ]
  },
  {
   "cell_type": "code",
   "execution_count": 15,
   "id": "61728f45",
   "metadata": {
    "scrolled": false
   },
   "outputs": [],
   "source": [
    "# Drop colummns that are no longer useful\n",
    "sr_noise_data = sr_noise_data.drop(columns =['Status','Agency Name','Complaint Type',\\\n",
    "                             'Descriptor','Location Type'])\n"
   ]
  },
  {
   "cell_type": "markdown",
   "id": "cd356c0d",
   "metadata": {},
   "source": [
    "I will create some new date and time columns that will help in visualizations. "
   ]
  },
  {
   "cell_type": "code",
   "execution_count": 16,
   "id": "26cf55c4",
   "metadata": {},
   "outputs": [],
   "source": [
    "# Add columns related to date and time \n",
    "sr_noise_data['Time Elapsed'] = sr_noise_data['Closed Date']-sr_noise_data['Created Date']\n",
    "\n",
    "sr_noise_data['Date_created']=pd.DatetimeIndex(sr_noise_data['Created Date']).date\n",
    "sr_noise_data['Year_month_created']=pd.DatetimeIndex(sr_noise_data['Date_created']).to_period('M').to_timestamp()\n",
    "\n",
    "sr_noise_data['Year_created'] = pd.DatetimeIndex(sr_noise_data['Created Date']).year\n",
    "sr_noise_data['Month_created'] = pd.DatetimeIndex(sr_noise_data['Created Date']).month\n",
    "sr_noise_data['Day_created'] = pd.DatetimeIndex(sr_noise_data['Created Date']).dayofweek\n",
    "sr_noise_data['Hour_created'] = pd.DatetimeIndex(sr_noise_data['Created Date']).hour"
   ]
  },
  {
   "cell_type": "markdown",
   "id": "141a6134",
   "metadata": {},
   "source": [
    "I will add some 'denominator' and 'numerator count' columns that will aid in visualizations. "
   ]
  },
  {
   "cell_type": "code",
   "execution_count": 17,
   "id": "bddd8bde",
   "metadata": {},
   "outputs": [],
   "source": [
    "#1) Calculate Denominator: Total number of complaints created every month\n",
    "denominator = sr_noise_data.groupby(['Year_month_created'])['Unique Key'].count()\n",
    "\n",
    "#Add this new feature column to data table via merge \n",
    "sr_noise_data = pd.merge(sr_noise_data,denominator, on='Year_month_created')\n",
    "sr_noise_data.rename(columns={'Unique Key_x': 'Unique Key','Unique Key_y': 'Month_Count_All'},inplace=True)\n",
    "\n",
    "#2) Calculate Numerator #1: Number of complaints grouped by Noise Descriptor, per month\n",
    "numerator = sr_noise_data.groupby(['Noise Descriptor',\\\n",
    "                                       'Year_month_created','Month_Count_All'])['Unique Key'].agg('count')\n",
    "#Add this new feature column to data table via \n",
    "sr_noise_data = pd.merge(sr_noise_data,\\\n",
    "                                 numerator,\\\n",
    "                                 how='left',\\\n",
    "                                 on=['Noise Descriptor','Year_month_created','Month_Count_All'])\n",
    "sr_noise_data.rename(columns={'Unique Key_x': 'Unique Key',\\\n",
    "                                      'Unique Key_y': 'Month_Count_Descriptor'},inplace=True)\n",
    "\n",
    "#3) Calculate Numerator #2: Number of complaints grouped by Noise Complaint Type, per month\n",
    "numerator = sr_noise_data.groupby(['Noise Complaint Type',\\\n",
    "                                       'Year_month_created','Month_Count_All'])['Unique Key'].agg('count')\n",
    "#Add this new feature column to data table via \n",
    "sr_noise_data = pd.merge(sr_noise_data,\\\n",
    "                                 numerator,\\\n",
    "                                 how='left',\\\n",
    "                                 on=['Noise Complaint Type','Year_month_created','Month_Count_All'])\n",
    "sr_noise_data.rename(columns={'Unique Key_x': 'Unique Key',\\\n",
    "                                      'Unique Key_y': 'Month_Count_Complaint_Type'},inplace=True)\n"
   ]
  },
  {
   "cell_type": "code",
   "execution_count": 18,
   "id": "31b0c472",
   "metadata": {},
   "outputs": [],
   "source": [
    "### Check that all month_count_groups add up to the month_count_all total for a single month (Jan 2019)\n",
    "# a = sr_noise_data[sr_noise_data['Month_created']==1]\n",
    "# b = a[a['Year_created']==2019]\n",
    "# print(b['Month_Count_Complaint_Type'].unique().sum())\n",
    "# print(b['Month_Count_All'][0])"
   ]
  },
  {
   "cell_type": "code",
   "execution_count": 19,
   "id": "bc476071",
   "metadata": {},
   "outputs": [
    {
     "name": "stdout",
     "output_type": "stream",
     "text": [
      "<class 'pandas.core.frame.DataFrame'>\n",
      "Int64Index: 1664108 entries, 0 to 1664107\n",
      "Data columns (total 27 columns):\n",
      " #   Column                      Non-Null Count    Dtype          \n",
      "---  ------                      --------------    -----          \n",
      " 0   Unique Key                  1664108 non-null  int64          \n",
      " 1   Created Date                1664108 non-null  datetime64[ns] \n",
      " 2   Closed Date                 1664108 non-null  datetime64[ns] \n",
      " 3   Agency                      1664108 non-null  object         \n",
      " 4   Incident Zip                1662656 non-null  float64        \n",
      " 5   Incident Address            1631999 non-null  object         \n",
      " 6   Street Name                 1631976 non-null  object         \n",
      " 7   Resolution Description      1633253 non-null  object         \n",
      " 8   Borough                     1664062 non-null  object         \n",
      " 9   X Coordinate (State Plane)  1651888 non-null  float64        \n",
      " 10  Y Coordinate (State Plane)  1651924 non-null  float64        \n",
      " 11  Open Data Channel Type      1664108 non-null  object         \n",
      " 12  Latitude                    1651888 non-null  float64        \n",
      " 13  Longitude                   1651888 non-null  float64        \n",
      " 14  Location                    1651888 non-null  object         \n",
      " 15  Noise Descriptor            1664108 non-null  object         \n",
      " 16  Noise Complaint Type        1664108 non-null  object         \n",
      " 17  Time Elapsed                1664108 non-null  timedelta64[ns]\n",
      " 18  Date_created                1664108 non-null  object         \n",
      " 19  Year_month_created          1664108 non-null  datetime64[ns] \n",
      " 20  Year_created                1664108 non-null  int64          \n",
      " 21  Month_created               1664108 non-null  int64          \n",
      " 22  Day_created                 1664108 non-null  int64          \n",
      " 23  Hour_created                1664108 non-null  int64          \n",
      " 24  Month_Count_All             1664108 non-null  int64          \n",
      " 25  Month_Count_Descriptor      1664108 non-null  int64          \n",
      " 26  Month_Count_Complaint_Type  1664108 non-null  int64          \n",
      "dtypes: datetime64[ns](3), float64(5), int64(8), object(10), timedelta64[ns](1)\n",
      "memory usage: 355.5+ MB\n"
     ]
    }
   ],
   "source": [
    "sr_noise_data.info()"
   ]
  },
  {
   "cell_type": "code",
   "execution_count": 20,
   "id": "6cb90330",
   "metadata": {},
   "outputs": [],
   "source": [
    "filename = \"311_Service_Requests_Noise_Cleaned.csv\"\n",
    "sr_noise_data.to_csv(filename,index = False)"
   ]
  }
 ],
 "metadata": {
  "kernelspec": {
   "display_name": "Python 3",
   "language": "python",
   "name": "python3"
  },
  "language_info": {
   "codemirror_mode": {
    "name": "ipython",
    "version": 3
   },
   "file_extension": ".py",
   "mimetype": "text/x-python",
   "name": "python",
   "nbconvert_exporter": "python",
   "pygments_lexer": "ipython3",
   "version": "3.8.8"
  }
 },
 "nbformat": 4,
 "nbformat_minor": 5
}
