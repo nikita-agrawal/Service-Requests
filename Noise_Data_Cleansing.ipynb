{
 "cells": [
  {
   "cell_type": "code",
   "execution_count": null,
   "id": "0d3ce2b3",
   "metadata": {},
   "outputs": [],
   "source": [
    "import pandas as pd \n",
    "import numpy as np\n",
    "import re\n",
    "\n",
    "pd.set_option('display.max_columns',30)\n",
    "pd.set_option('display.max_rows',30)\n"
   ]
  },
  {
   "cell_type": "markdown",
   "id": "72c8c6ae",
   "metadata": {},
   "source": [
    "## Load in Noise complaints csv "
   ]
  },
  {
   "cell_type": "code",
   "execution_count": null,
   "id": "de4d801a",
   "metadata": {},
   "outputs": [],
   "source": [
    "## Load in full dataset with selected columns \n",
    "filepath = '/Users/nikiagrawal/Desktop/EDA/Service-Requests/'\n",
    "filename = '311_Service_Requests_Noise.csv'\n",
    "sr_noise_data = pd.read_csv(filepath + filename,\\\n",
    "                      usecols=[0,1,2,3,4,5,6,7,8,9,10,19,21,25,26,27,28,38,39,40])"
   ]
  },
  {
   "cell_type": "code",
   "execution_count": null,
   "id": "d3b5a907",
   "metadata": {},
   "outputs": [],
   "source": [
    "#sr_noise_data.shape"
   ]
  },
  {
   "cell_type": "code",
   "execution_count": null,
   "id": "24b3943a",
   "metadata": {},
   "outputs": [],
   "source": [
    "sr_noise_data.columns"
   ]
  },
  {
   "cell_type": "code",
   "execution_count": null,
   "id": "2cfb2211",
   "metadata": {},
   "outputs": [],
   "source": [
    "### Datetime conversion with pd.to_datetime():\n",
    "sr_noise_data['Created Date'] = pd.to_datetime(sr_noise_data['Created Date'], format = \"%m/%d/%Y %I:%M:%S %p\")\n",
    "sr_noise_data['Closed Date'] = pd.to_datetime(sr_noise_data['Closed Date'], format = \"%m/%d/%Y %I:%M:%S %p\")\n"
   ]
  },
  {
   "cell_type": "code",
   "execution_count": null,
   "id": "13745b37",
   "metadata": {},
   "outputs": [],
   "source": [
    "#sr_noise_data.dtypes"
   ]
  },
  {
   "cell_type": "markdown",
   "id": "54b5df69",
   "metadata": {},
   "source": [
    "### Noise Feature Engineering\n",
    "\n",
    "There are all currently all kinds of labels used to describe noise.  \n",
    "I will simplify the categoization of the noise data by creating 2 new features, \"Noise Complaint Type\" and \"Noise Descriptor\" based on the 3 features, 'Complaint Type','Descriptor', and 'Location Type' listed below. "
   ]
  },
  {
   "cell_type": "code",
   "execution_count": null,
   "id": "cda4632c",
   "metadata": {},
   "outputs": [],
   "source": [
    " sr_noise_data[['Complaint Type','Descriptor','Location Type','Unique Key']]\\\n",
    "            .groupby(['Complaint Type','Descriptor','Location Type']).count()"
   ]
  },
  {
   "cell_type": "code",
   "execution_count": null,
   "id": "9c2f8129",
   "metadata": {},
   "outputs": [],
   "source": [
    "## Helper function to check if string contains an element from a list\n",
    "def contains_elements_from(string, lst):\n",
    "    \"\"\"This function will return True if \n",
    "    a given string contains any element from a\n",
    "    given list. \n",
    "    \n",
    "    Args: \n",
    "    string: input string\n",
    "    lst: a list of strings \n",
    "    \n",
    "    Returns:\n",
    "    True or False \n",
    "    \"\"\"\n",
    "    return any(ele in string for ele in lst)"
   ]
  },
  {
   "cell_type": "code",
   "execution_count": null,
   "id": "1f595125",
   "metadata": {},
   "outputs": [],
   "source": [
    "def get_description(complaint_descriptor):\n",
    "    \"\"\"This function takes in the 'Complaint Type' and 'Descriptor' elements \n",
    "    and outputs an appropriate relabel for the new feature 'Noise Descriptor.'\n",
    "    \n",
    "    Args:\n",
    "    complaint_descriptor: contains 2 elements, complaint type and descriptor\n",
    "    \n",
    "    Returns:\n",
    "    string label that will be used for new feature, Noise Descriptor. \"\"\"\n",
    "    \n",
    "    complaint = complaint_descriptor[0]\n",
    "    descriptor = complaint_descriptor[1]  \n",
    "    #clean up DEP noise descriptor categories \n",
    "    if complaint == \"Noise\": \n",
    "        temp = re.search(\"(^Noise?[:,]*)([\\s\\w\\/]*)\", descriptor).group(2).strip(\" \").capitalize()\n",
    "    elif descriptor == descriptor:\n",
    "        if descriptor == '21 Collection Truck Noise':\n",
    "            temp = \"truck\"\n",
    "        else:\n",
    "            temp = descriptor.split(\"/\",2)[0]\n",
    "    else: \n",
    "        return \"Unspecified\"\n",
    "        \n",
    "        \n",
    "    if contains_elements_from(temp,['dog','animals']):\n",
    "        temp = \"Animal\"\n",
    "    elif contains_elements_from(temp,['Car','Engine','truck','carting','Vehicle','Boat']):\n",
    "        temp =\"Vehicle\"\n",
    "    elif contains_elements_from(temp,['NYPD','News','Other']):\n",
    "        temp =\"Helicopter\"\n",
    "    elif contains_elements_from(temp,['Construction','Jack']):\n",
    "        temp =\"Construction\"\n",
    "    elif contains_elements_from(temp,['Music','Loud music']):\n",
    "        temp =\"Loud Music/Party\"\n",
    "    elif contains_elements_from(temp,['Manufacturing']):\n",
    "        temp = \"Manufacturing\"\n",
    "    elif contains_elements_from(temp,['Other noise sources']):\n",
    "        temp = \"Other Sources\"\n",
    "    return temp       "
   ]
  },
  {
   "cell_type": "code",
   "execution_count": null,
   "id": "2a3bd473",
   "metadata": {},
   "outputs": [],
   "source": [
    "s = '21 Collection Truck Noise'\n",
    "contains_elements_from(s,['21'])\n",
    "s.split(\"/\",2)[0]"
   ]
  },
  {
   "cell_type": "code",
   "execution_count": null,
   "id": "079681c7",
   "metadata": {},
   "outputs": [],
   "source": [
    "d = \"Noise, Ice Cream Truck (NR4)\"\n",
    "temp = d.split(\"/\",2)[0]\n",
    "temp"
   ]
  },
  {
   "cell_type": "code",
   "execution_count": null,
   "id": "b719c4a3",
   "metadata": {},
   "outputs": [],
   "source": [
    "def get_complaint_type(complaint_descriptor_location):\n",
    "    \"\"\"This function takes in the Complaint Type, Descriptor, and Location Type \n",
    "    elements and outputs an appropriate relabel for the new feature, 'Noise Complaint Type.'\n",
    "    \n",
    "    Args:\n",
    "    complaint_descriptor_location: contains 3 elements, complaint type, descriptor, and location type\n",
    "    \n",
    "    Returns:\n",
    "    string label that will be used for new feature, Noise Complaint Type.\"\"\"\n",
    "    \n",
    "    complaint = complaint_descriptor_location[0]\n",
    "    descriptor = complaint_descriptor_location[1]\n",
    "    location = complaint_descriptor_location[2]\n",
    "    if complaint == \"Noise\":\n",
    "        return \"Unspecified\"\n",
    "    elif complaint ==\"Collection Truck Noise\":\n",
    "        return \"Vehicle\"\n",
    "    else:\n",
    "        temp = re.split('Noise -',complaint)[1].strip(\" \").capitalize() \n",
    "        if ((temp == \"Commercial\") & (location == location)):\n",
    "            temp = location\n",
    "    return temp"
   ]
  },
  {
   "cell_type": "code",
   "execution_count": null,
   "id": "e32e1187",
   "metadata": {},
   "outputs": [],
   "source": [
    "### Add new feature column \"Noise Descriptor\"\n",
    "sr_noise_data[\"Noise Descriptor\"] =\\\n",
    "    sr_noise_data[['Complaint Type','Descriptor']].apply(get_description, axis=1)"
   ]
  },
  {
   "cell_type": "code",
   "execution_count": null,
   "id": "c076b5c7",
   "metadata": {
    "scrolled": true
   },
   "outputs": [],
   "source": [
    "list(enumerate(sr_noise_data[\"Noise Descriptor\"].unique()))"
   ]
  },
  {
   "cell_type": "code",
   "execution_count": null,
   "id": "d86f56be",
   "metadata": {},
   "outputs": [],
   "source": [
    "### Add new feature column \"Noise Complaint Type\"\n",
    "sr_noise_data[\"Noise Complaint Type\"] =\\\n",
    "    sr_noise_data[['Complaint Type','Descriptor','Location Type']].apply(get_complaint_type, axis=1)"
   ]
  },
  {
   "cell_type": "code",
   "execution_count": 1,
   "id": "4562c676",
   "metadata": {},
   "outputs": [
    {
     "ename": "NameError",
     "evalue": "name 'sr_noise_data' is not defined",
     "output_type": "error",
     "traceback": [
      "\u001b[0;31m---------------------------------------------------------------------------\u001b[0m",
      "\u001b[0;31mNameError\u001b[0m                                 Traceback (most recent call last)",
      "\u001b[0;32m<ipython-input-1-e1d3a525d5d1>\u001b[0m in \u001b[0;36m<module>\u001b[0;34m\u001b[0m\n\u001b[0;32m----> 1\u001b[0;31m \u001b[0mlist\u001b[0m\u001b[0;34m(\u001b[0m\u001b[0menumerate\u001b[0m\u001b[0;34m(\u001b[0m\u001b[0msr_noise_data\u001b[0m\u001b[0;34m[\u001b[0m\u001b[0;34m\"Noise Complaint Type\"\u001b[0m\u001b[0;34m]\u001b[0m\u001b[0;34m.\u001b[0m\u001b[0munique\u001b[0m\u001b[0;34m(\u001b[0m\u001b[0;34m)\u001b[0m\u001b[0;34m)\u001b[0m\u001b[0;34m)\u001b[0m\u001b[0;34m\u001b[0m\u001b[0;34m\u001b[0m\u001b[0m\n\u001b[0m",
      "\u001b[0;31mNameError\u001b[0m: name 'sr_noise_data' is not defined"
     ]
    }
   ],
   "source": [
    "list(enumerate(sr_noise_data[\"Noise Complaint Type\"].unique()))"
   ]
  },
  {
   "cell_type": "code",
   "execution_count": null,
   "id": "e5f7a0f6",
   "metadata": {},
   "outputs": [],
   "source": [
    "sr_noise_data.drop(columns =['Status','Agency Name','Complaint Type',\\\n",
    "                             'Descriptor','Location Type']) #, inplace= True)"
   ]
  }
 ],
 "metadata": {
  "kernelspec": {
   "display_name": "Python 3",
   "language": "python",
   "name": "python3"
  },
  "language_info": {
   "codemirror_mode": {
    "name": "ipython",
    "version": 3
   },
   "file_extension": ".py",
   "mimetype": "text/x-python",
   "name": "python",
   "nbconvert_exporter": "python",
   "pygments_lexer": "ipython3",
   "version": "3.8.8"
  }
 },
 "nbformat": 4,
 "nbformat_minor": 5
}
