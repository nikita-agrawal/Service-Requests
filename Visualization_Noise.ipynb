{
 "cells": [
  {
   "cell_type": "markdown",
   "id": "45e6fe9e",
   "metadata": {},
   "source": [
    "\n",
    "sr_noise_data_den_num['Ratio_Descriptor_Monthly'] = \\\n",
    "                     sr_noise_data_den_num['Month_Count_Descriptor'] / sr_noise_data_den_num['Month_Count_All'] \n",
    "\n",
    "import plotly.express as px\n",
    "df = sr_noise_data_den_num \n",
    "fig = px.line(df, x=\"Year_month_created\", y=\"Ratio_Descriptor_Monthly\", color=\"Noise Descriptor\")\n",
    "fig.show()\n",
    "\n",
    "df = sr_noise_data_den_num \n",
    "fig = px.line(df, x=\"Year_month_created\", y=\"Ratio_Descriptor_Monthly\", color=\"Noise Descriptor\",range_y=[0,.3])\n",
    "fig.show()\n",
    "\n",
    "# comparing by Noise compliant type\n",
    "\n",
    "# Group by Noise Complaint Type numerator \n",
    "numerator = sr_noise_data_den.groupby(['Noise Complaint Type',\\\n",
    "                                       'Year_month_created','Month_Count_All'])['Unique Key'].agg('count')\n",
    "\n",
    "#merge again\n",
    "sr_noise_data_den_num = pd.merge(sr_noise_data_den,\\\n",
    "                                 numerator,\\\n",
    "                                 how='left',\\\n",
    "                                 on=['Noise Complaint Type','Year_month_created','Month_Count_All'])\n",
    "\n",
    "#rename \n",
    "sr_noise_data_den_num.rename(columns={'Unique Key_x': 'Unique Key',\\\n",
    "                                      'Unique Key_y': 'Month_Count_Complaint_Type'},\\\n",
    "                             inplace=True)\n",
    "\n",
    "sr_noise_data_den_num['Ratio_Complaint_Type_Monthly'] = \\\n",
    "                     sr_noise_data_den_num['Month_Count_Complaint_Type'] / sr_noise_data_den_num['Month_Count_All'] \n",
    "\n",
    "df = sr_noise_data_den_num \n",
    "fig = px.line(df, x=\"Year_month_created\", y=\"Ratio_Complaint_Type_Monthly\", color=\"Noise Complaint Type\")\n",
    "fig.show()\n",
    "\n",
    "df = sr_noise_data_den_num[sr_noise_data_den_num['Noise Complaint Type']=='Park']\n",
    "fig = px.line(df, x=\"Year_month_created\", y='Month_Count_Complaint_Type')\n",
    "fig.show()\n",
    "\n",
    "df = sr_noise_data_den_num[sr_noise_data_den_num['Noise Complaint Type']=='Residential']\n",
    "fig = px.line(df, x=\"Year_month_created\", y='Month_Count_Complaint_Type')\n",
    "fig.show()\n",
    "\n",
    "df = sr_noise_data_den_num[sr_noise_data_den_num['Noise Complaint Type']=='Club/Bar/Restaurant']\n",
    "fig = px.line(df, x=\"Year_month_created\", y='Month_Count_Complaint_Type')\n",
    "fig.show()"
   ]
  },
  {
   "cell_type": "code",
   "execution_count": null,
   "id": "019726ce",
   "metadata": {},
   "outputs": [],
   "source": [
    "#sns.lineplot(data=flights, x=\"year\", y=\"passengers\", hue=\"month\")\n"
   ]
  },
  {
   "cell_type": "markdown",
   "id": "03b1d43d",
   "metadata": {},
   "source": [
    "## Load in cleaned Noise complaints data csv "
   ]
  },
  {
   "cell_type": "code",
   "execution_count": 1,
   "id": "e00925f4",
   "metadata": {},
   "outputs": [],
   "source": [
    "import pandas as pd\n",
    "import numpy as np\n",
    "from matplotlib import pyplot as plt\n",
    "import seaborn as sns \n",
    "#plt.style.use('ggplot')\n",
    "import plotly.express as px\n",
    "import plotly.graph_objects as go\n"
   ]
  },
  {
   "cell_type": "code",
   "execution_count": 2,
   "id": "d493bdd9",
   "metadata": {},
   "outputs": [],
   "source": [
    "## Load in full dataset with selected columns \n",
    "filepath = '/Users/nikiagrawal/Desktop/EDA/Service-Requests/'\n",
    "filename = '311_Service_Requests_Noise_Cleaned.csv'\n",
    "sr_noise_data = pd.read_csv(filepath + filename)"
   ]
  },
  {
   "cell_type": "code",
   "execution_count": 3,
   "id": "4d4e4f4a",
   "metadata": {},
   "outputs": [],
   "source": [
    "#sr_noise_data.info()\n",
    "#sr_noise_data.columns"
   ]
  },
  {
   "cell_type": "code",
   "execution_count": null,
   "id": "531cea74",
   "metadata": {},
   "outputs": [],
   "source": [
    "sr_noise_data['Ratio_Complaint_Type_Monthly'] = \\\n",
    "                     sr_noise_data['Month_Count_Complaint_Type'] / sr_noise_data['Month_Count_All'] "
   ]
  },
  {
   "cell_type": "markdown",
   "id": "20b19835",
   "metadata": {},
   "source": [
    "# Visual 2: Number of Noise-Related Complaints Created Every Month\n"
   ]
  },
  {
   "cell_type": "code",
   "execution_count": 5,
   "id": "b0361b1e",
   "metadata": {},
   "outputs": [],
   "source": [
    "# fig = px.line(sr_noise_data,\n",
    "#               x=\"Year_month_created\",\n",
    "#               y=\"Month_Count_All\", \n",
    "#               title='Total Number of Noise-Related Complaints Created Every Month',\n",
    "#               labels={\n",
    "#                      \"Year_month_created\": \"Month Year Created\",\n",
    "#                      \"Month_Count_All\": \"Total Number of Complaints\",\n",
    "#                  })\n",
    "#fig.show()"
   ]
  },
  {
   "cell_type": "code",
   "execution_count": null,
   "id": "5e23eeb4",
   "metadata": {
    "scrolled": true
   },
   "outputs": [],
   "source": [
    "#sr_noise_data.shape"
   ]
  },
  {
   "cell_type": "code",
   "execution_count": 15,
   "id": "6e475da9",
   "metadata": {},
   "outputs": [],
   "source": [
    "df = sr_noise_data[[\"Year_month_created\",\"Month_Count_All\"]].drop_duplicates()\n",
    "df[\"Percent of Total Complaints\"] = round((df[\"Month_Count_All\"]/(1664108))*100,2)\n",
    "#df"
   ]
  },
  {
   "cell_type": "markdown",
   "id": "895bc31e",
   "metadata": {},
   "source": [
    "## Visual 3: Percent of Complaints Created Every Month by Type \n"
   ]
  },
  {
   "cell_type": "code",
   "execution_count": null,
   "id": "cc930f78",
   "metadata": {},
   "outputs": [],
   "source": []
  },
  {
   "cell_type": "code",
   "execution_count": null,
   "id": "d327b06a",
   "metadata": {},
   "outputs": [],
   "source": [
    "df = sr_noise_data[sr_noise_data['Noise Complaint Type']=='Park']\n",
    "fig = px.line(df, x=\"Year_month_created\", y='Month_Count_Complaint_Type')\n",
    "#fig.show()"
   ]
  },
  {
   "cell_type": "code",
   "execution_count": null,
   "id": "47618115",
   "metadata": {},
   "outputs": [],
   "source": [
    "df = sr_noise_data_den_num[sr_noise_data_den_num['Noise Complaint Type']=='Residential']\n",
    "fig = px.line(df, x=\"Year_month_created\", y='Month_Count_Complaint_Type')\n",
    "#fig.show()"
   ]
  },
  {
   "cell_type": "code",
   "execution_count": null,
   "id": "b0cfa17e",
   "metadata": {},
   "outputs": [],
   "source": [
    "df = sr_noise_data_den_num[sr_noise_data_den_num['Noise Complaint Type']=='Club/Bar/Restaurant']\n",
    "fig = px.line(df, x=\"Year_month_created\", y='Month_Count_Complaint_Type')\n",
    "#fig.show()"
   ]
  },
  {
   "cell_type": "raw",
   "id": "e569ccf9",
   "metadata": {},
   "source": []
  },
  {
   "cell_type": "code",
   "execution_count": null,
   "id": "29ecdf0b",
   "metadata": {},
   "outputs": [],
   "source": []
  }
 ],
 "metadata": {
  "kernelspec": {
   "display_name": "Python 3",
   "language": "python",
   "name": "python3"
  },
  "language_info": {
   "codemirror_mode": {
    "name": "ipython",
    "version": 3
   },
   "file_extension": ".py",
   "mimetype": "text/x-python",
   "name": "python",
   "nbconvert_exporter": "python",
   "pygments_lexer": "ipython3",
   "version": "3.8.8"
  }
 },
 "nbformat": 4,
 "nbformat_minor": 5
}
